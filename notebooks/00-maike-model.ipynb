{
 "cells": [
  {
   "cell_type": "code",
   "execution_count": 111,
   "metadata": {},
   "outputs": [],
   "source": [
    "if '__IPYTHON__' in globals():\n",
    "    from IPython import get_ipython\n",
    "    ipython = get_ipython()\n",
    "    ipython.magic('load_ext autoreload')\n",
    "    ipython.magic('autoreload 2')\n",
    "\n",
    "import os\n",
    "import numpy as np\n",
    "import pandas as pd\n",
    "import seaborn as sns\n",
    "import yaml\n",
    "import matplotlib.pyplot as plt\n",
    "import tempfile\n",
    "from pathlib import Path\n",
    "\n",
    "from sklearn.feature_selection import RFE\n",
    "\n",
    "from sklearn.metrics import RocCurveDisplay,ConfusionMatrixDisplay, PrecisionRecallDisplay\n",
    "\n",
    "from sklearn.ensemble import RandomForestClassifier\n",
    "\n",
    "from sklearn.model_selection import cross_validate, train_test_split\n",
    "from sklearn.pipeline import make_pipeline, make_union\n",
    "from sklearn.compose import make_column_transformer\n",
    "from sklearn.preprocessing import FunctionTransformer\n",
    "\n",
    "from sklearn.impute import SimpleImputer\n",
    "from sklearn.preprocessing import OneHotEncoder, OrdinalEncoder\n",
    "\n",
    "from sklearn.metrics import (\n",
    "    roc_curve,\n",
    "    precision_recall_curve,\n",
    "    accuracy_score,\n",
    "    average_precision_score,\n",
    "    roc_auc_score,\n",
    "    brier_score_loss,\n",
    "    matthews_corrcoef,\n",
    "    f1_score,\n",
    ")\n",
    "\n",
    "from sklearn import set_config\n",
    "set_config(display=\"diagram\")"
   ]
  },
  {
   "cell_type": "markdown",
   "metadata": {},
   "source": [
    "### 1. Import data"
   ]
  },
  {
   "cell_type": "code",
   "execution_count": 112,
   "metadata": {},
   "outputs": [],
   "source": [
    "target = \"Survived\"\n",
    "random_state = 5646\n",
    "test_size = 0.3\n",
    "n_estimators = 200\n",
    "min_samples_split = 20\n"
   ]
  },
  {
   "cell_type": "code",
   "execution_count": 113,
   "metadata": {},
   "outputs": [],
   "source": [
    "df = pd.read_csv(\"../data/raw/train.csv\")\n",
    "X, y = (\n",
    "    df.drop(target, axis=1),\n",
    "    df.pop(target),\n",
    ")"
   ]
  },
  {
   "cell_type": "code",
   "execution_count": 114,
   "metadata": {},
   "outputs": [],
   "source": [
    "X_train, X_test, y_train, y_test = train_test_split(X, y, random_state=random_state, test_size=test_size, stratify=y)"
   ]
  },
  {
   "cell_type": "markdown",
   "metadata": {},
   "source": [
    "### 2. Prepare data"
   ]
  },
  {
   "cell_type": "code",
   "execution_count": 115,
   "metadata": {},
   "outputs": [],
   "source": [
    "def identify_deck(X, fill_missing=\"UNK\"):\n",
    "    # Create Deck column\n",
    "    X = X.apply(lambda x: x.str.extract(\"([A-Za-z]+)\", expand=False))\n",
    "    X = X.fillna(fill_missing)\n",
    "    return np.array(X).reshape(-1, 1)\n",
    "\n",
    "\n",
    "def fill_by_group(X, group_by, fill_by=\"median\"):\n",
    "    X[\"Age\"] = X[\"Age\"].fillna(X.groupby(group_by)[\"Age\"].transform(fill_by))\n",
    "    return np.array(X[\"Age\"]).reshape(-1, 1)\n",
    "\n",
    "\n",
    "def count_features(X, offset=0):\n",
    "    X = X.apply(lambda x: x.sum(), axis=1) + offset\n",
    "    return np.array(X).reshape(-1, 1)\n",
    "\n",
    "\n",
    "def discretize_feature(X, bins=[0, 1], labels=None):\n",
    "    if isinstance(X, np.ndarray):\n",
    "        X = pd.DataFrame(X)\n",
    "    X = X.apply(lambda x: pd.cut(x, bins=bins, include_lowest=True, labels=labels))\n",
    "    return np.array(X).reshape(-1, 1)\n",
    "\n",
    "\n",
    "def boolean_feature(X):\n",
    "    X = X.apply(lambda x: x.sum() == 0, axis=1).astype(int)\n",
    "    return np.array(X).reshape(-1, 1)\n",
    "\n",
    "\n",
    "def extract_titles(X):\n",
    "    X = X.apply(lambda x: x.str.extract(\" ([A-Za-z]+)\\.\", expand=False))\n",
    "    X = X.replace(\n",
    "        [\n",
    "            \"Rev\",\n",
    "            \"Don\",\n",
    "            \"Countess\",\n",
    "            \"Sir\",\n",
    "            \"Lady\",\n",
    "            \"Jonkheer\",\n",
    "            \"Col\",\n",
    "            \"Capt\",\n",
    "            \"Major\",\n",
    "            \"Master\",\n",
    "            \"Dr\",\n",
    "        ],\n",
    "        \"Rare\",\n",
    "    )\n",
    "    X = X.replace([\"Mlle\", \"Mme\", \"Ms\"], \"Miss\")\n",
    "\n",
    "    return np.array(X).reshape(-1, 1)\n"
   ]
  },
  {
   "cell_type": "markdown",
   "metadata": {},
   "source": [
    "### 3. Create the pipeline"
   ]
  },
  {
   "cell_type": "code",
   "execution_count": 116,
   "metadata": {},
   "outputs": [],
   "source": [
    "# Perform imputation\n",
    "data_pipeline = make_column_transformer(\n",
    "    # Create the familysize feature\n",
    "    (FunctionTransformer(count_features, kw_args={\"offset\": 1}), [\"SibSp\", \"Parch\"]),\n",
    "    # Create is_alone feature\n",
    "    (FunctionTransformer(boolean_feature), [\"SibSp\", \"Parch\"]),\n",
    "    # Create the title feature\n",
    "    (\n",
    "        make_pipeline(\n",
    "            FunctionTransformer(extract_titles),\n",
    "            OneHotEncoder(handle_unknown=\"ignore\", sparse=False),\n",
    "        ),\n",
    "        [\"Name\"],\n",
    "    ),\n",
    "    # Create the deck feature\n",
    "    (\n",
    "        make_pipeline(\n",
    "            FunctionTransformer(identify_deck), OrdinalEncoder(categories=\"auto\")\n",
    "        ),\n",
    "        [\"Cabin\"],\n",
    "    ),\n",
    "\n",
    "    # Create the fare_band feature\n",
    "    (\n",
    "        make_pipeline(\n",
    "            SimpleImputer(strategy=\"median\"),\n",
    "            FunctionTransformer(\n",
    "                discretize_feature,\n",
    "                kw_args=dict(\n",
    "                    bins=[0, 8, 15, 32, 100, 600],\n",
    "                    labels=[\"Very Low\", \"Low\", \"Medium\", \"High\", \"Very High\"],\n",
    "                ),\n",
    "            ),\n",
    "            OneHotEncoder(handle_unknown=\"ignore\", sparse=False),\n",
    "        ),\n",
    "        [\"Fare\"],\n",
    "    ),\n",
    "    # Create the age_band feature\n",
    "    (\n",
    "        make_pipeline(\n",
    "            FunctionTransformer(\n",
    "                fill_by_group, kw_args=dict(group_by=\"Pclass\", fill_by=\"median\")\n",
    "            ),\n",
    "            FunctionTransformer(\n",
    "                discretize_feature,\n",
    "                kw_args=dict(\n",
    "                    bins=[0, 14, 24, 64, 150],\n",
    "                    labels=[\"Children\", \"Youth\", \"Adults\", \"Seniors\"],\n",
    "                ),\n",
    "            ),\n",
    "            OneHotEncoder(handle_unknown=\"ignore\", sparse=False),\n",
    "        ),\n",
    "        [\"Age\", \"Pclass\"],\n",
    "    ), \n",
    "    (\n",
    "        make_pipeline(\n",
    "            SimpleImputer(strategy=\"most_frequent\"),\n",
    "            OneHotEncoder(handle_unknown=\"ignore\", sparse=False),\n",
    "        ),\n",
    "        [\"Embarked\", \"Sex\", \"Pclass\"],\n",
    "    ),\n",
    "    (\"passthrough\", [\"SibSp\", \"Parch\"])\n",
    ")\n"
   ]
  },
  {
   "cell_type": "markdown",
   "metadata": {},
   "source": [
    "### 4. Create the model"
   ]
  },
  {
   "cell_type": "code",
   "execution_count": 117,
   "metadata": {},
   "outputs": [],
   "source": [
    "model = RandomForestClassifier(\n",
    "    n_estimators=n_estimators,\n",
    "    random_state=random_state,\n",
    "    min_samples_split=min_samples_split,\n",
    ")"
   ]
  },
  {
   "cell_type": "markdown",
   "metadata": {},
   "source": [
    "### 5. Feature Selection"
   ]
  },
  {
   "cell_type": "code",
   "execution_count": 118,
   "metadata": {},
   "outputs": [],
   "source": [
    "selector = RFE(model, n_features_to_select=20)\n",
    "pipeline = make_pipeline(data_pipeline, selector)"
   ]
  },
  {
   "cell_type": "markdown",
   "metadata": {},
   "source": [
    "### 6. Validation"
   ]
  },
  {
   "cell_type": "code",
   "execution_count": 119,
   "metadata": {},
   "outputs": [
    {
     "name": "stdout",
     "output_type": "stream",
     "text": [
      "    Cabin\n",
      "506   UNK\n",
      "716     C\n",
      "536     B\n",
      "463   UNK\n",
      "762   UNK\n",
      "..    ...\n",
      "354   UNK\n",
      "55      C\n",
      "425   UNK\n",
      "235   UNK\n",
      "732   UNK\n",
      "\n",
      "[623 rows x 1 columns]\n",
      "    Cabin\n",
      "859   UNK\n",
      "178   UNK\n",
      "193     F\n",
      "434     E\n",
      "597   UNK\n",
      "..    ...\n",
      "866   UNK\n",
      "546   UNK\n",
      "848   UNK\n",
      "39    UNK\n",
      "598   UNK\n",
      "\n",
      "[268 rows x 1 columns]\n",
      "fit_time                  0.1628   0.0086\n",
      "score_time                0.0304   0.0060\n",
      "test_accuracy             0.8073   0.0462\n",
      "test_average_precision    0.8362   0.0529\n",
      "test_neg_brier_score      -0.1353  0.0240\n",
      "test_roc_auc              0.8647   0.0391\n",
      "test_f1                   0.7269   0.0667\n"
     ]
    }
   ],
   "source": [
    "# Transform data\n",
    "X_train_features = pipeline.fit_transform(X_train, y_train)\n",
    "X_test_features = pipeline.transform(X_test)\n",
    "\n",
    "# Metrics to evaluate the model\n",
    "scoring = (\"accuracy\", \"average_precision\", \"neg_brier_score\", \"roc_auc\", \"f1\")\n",
    "\n",
    "# Cross validation\n",
    "scores = cross_validate(\n",
    "    model, X_train_features, y_train, cv=5, scoring=scoring, n_jobs=-1\n",
    ")\n",
    "\n",
    "# Mean value of the metrics\n",
    "for k, v in scores.items():\n",
    "    #print(f\"{k}: {v.mean():0.4f} (std {v.std():0.4f})\")\n",
    "    print (\"{:<25} {:<8.4f} {:<4.4f}\".format( k, v.mean(), v.std()))\n"
   ]
  },
  {
   "cell_type": "code",
   "execution_count": 120,
   "metadata": {},
   "outputs": [
    {
     "name": "stdout",
     "output_type": "stream",
     "text": [
      "---------------------\n",
      "Accuracy:      0.8246 \n",
      "Avg Precision: 0.8367 \n",
      "F1-score:      0.7707 \n",
      "Brier Score:   0.1327 \n",
      "MCC:           0.6288 \n",
      "ROC_AUC:       0.8730\n"
     ]
    },
    {
     "data": {
      "image/png": "[encoded data removed]",
      "text/plain": [
       "<Figure size 1008x360 with 4 Axes>"
      ]
     },
     "metadata": {
      "needs_background": "light"
     },
     "output_type": "display_data"
    }
   ],
   "source": [
    "model.fit(X_train_features, y_train)\n",
    "\n",
    "y_pred = model.predict(X_test_features)\n",
    "y_pred_proba = model.predict_proba(X_test_features)[:, 1]\n",
    "\n",
    "# Accuracy\n",
    "acc = accuracy_score(y_test, y_pred)\n",
    "\n",
    "# F1-score\n",
    "f1 = f1_score(y_test, y_pred)\n",
    "\n",
    "# Brier Score\n",
    "brier = brier_score_loss(y_test, y_pred_proba)\n",
    "\n",
    "# Matthews Correlation Coefficient\n",
    "matthews = matthews_corrcoef(y_test, y_pred)\n",
    "\n",
    "# ROC AUC\n",
    "roc_auc = roc_auc_score(y_test, y_pred_proba)\n",
    "\n",
    "# Avg Precision\n",
    "avg_prec = average_precision_score(y_test, y_pred_proba)\n",
    "\n",
    "print(\"---------------------\")\n",
    "print(\"Accuracy:      {:<.4f} \\nAvg Precision: {:<.4f} \\nF1-score:      {:<.4f} \\nBrier Score:   {:<.4f} \\nMCC:           {:<.4f} \\nROC_AUC:       {:<.4f}\".format(acc, avg_prec, f1, brier, matthews, roc_auc))\n",
    "\n",
    "\n",
    "fig, ax = plt.subplots(1, 3, figsize=(14, 5))\n",
    "RocCurveDisplay.from_estimator(model, X_test_features, y_test, ax=ax[0])\n",
    "PrecisionRecallDisplay.from_estimator(model, X_test_features, y_test, ax=ax[1])\n",
    "ConfusionMatrixDisplay.from_estimator(model, X_test_features, y_test, ax=ax[2])\n",
    "plt.show()"
   ]
  },
  {
   "cell_type": "code",
   "execution_count": 121,
   "metadata": {},
   "outputs": [
    {
     "name": "stdout",
     "output_type": "stream",
     "text": [
      "    Cabin\n",
      "0     UNK\n",
      "1     UNK\n",
      "2     UNK\n",
      "3     UNK\n",
      "4     UNK\n",
      "..    ...\n",
      "413   UNK\n",
      "414     C\n",
      "415   UNK\n",
      "416   UNK\n",
      "417   UNK\n",
      "\n",
      "[418 rows x 1 columns]\n"
     ]
    }
   ],
   "source": [
    "test = pd.read_csv(\"../data/raw/test.csv\")\n",
    "test_features = pipeline.transform(test)"
   ]
  },
  {
   "cell_type": "code",
   "execution_count": 122,
   "metadata": {},
   "outputs": [
    {
     "data": {
      "image/png": "[encoded data removed]",
      "text/plain": [
       "<Figure size 432x288 with 1 Axes>"
      ]
     },
     "metadata": {
      "needs_background": "light"
     },
     "output_type": "display_data"
    }
   ],
   "source": [
    "model.fit(X_train_features, y_train)\n",
    "pd.Series(model.feature_importances_).plot(kind='bar')\n",
    "y_test_pred = model.predict(test_features)"
   ]
  },
  {
   "cell_type": "code",
   "execution_count": 123,
   "metadata": {},
   "outputs": [
    {
     "data": {
      "text/plain": [
       "' with tempfile.TemporaryDirectory() as temp_dir:\\n\\n    # Download the submission template file to the temporary directory\\n    ! kaggle competitions download -c titanic -f gender_submission.csv --path={temp_dir}\\n    # Fill the template with the model predictions\\n\\n    template = Path(f\"{temp_dir}/gender_submission.csv\").resolve()\\n    predictions = Path(f\"{temp_dir}/{model.__class__.__name__}.csv\").resolve()\\n\\n    submission = pd.read_csv(template)\\n    submission[target] = y_test_pred\\n    submission.to_csv(predictions, index=False)\\n\\n    # Save the submission file on the temporary directory\\n    ! kaggle competitions submit titanic -f {predictions} -m \"RFC\" '"
      ]
     },
     "execution_count": 123,
     "metadata": {},
     "output_type": "execute_result"
    }
   ],
   "source": [
    "\"\"\" with tempfile.TemporaryDirectory() as temp_dir:\n",
    "\n",
    "    # Download the submission template file to the temporary directory\n",
    "    ! kaggle competitions download -c titanic -f gender_submission.csv --path={temp_dir}\n",
    "    # Fill the template with the model predictions\n",
    "\n",
    "    template = Path(f\"{temp_dir}/gender_submission.csv\").resolve()\n",
    "    predictions = Path(f\"{temp_dir}/{model.__class__.__name__}.csv\").resolve()\n",
    "\n",
    "    submission = pd.read_csv(template)\n",
    "    submission[target] = y_test_pred\n",
    "    submission.to_csv(predictions, index=False)\n",
    "\n",
    "    # Save the submission file on the temporary directory\n",
    "    ! kaggle competitions submit titanic -f {predictions} -m \"RFC\" \"\"\""
   ]
  }
 ],
 "metadata": {
  "interpreter": {
   "hash": "d3f81c8196facad2800a613f3c5a8c1e4244f285017dc17a7042e1be4536280c"
  },
  "kernelspec": {
   "display_name": "Python 3.8.10 ('mlops')",
   "language": "python",
   "name": "python3"
  },
  "language_info": {
   "codemirror_mode": {
    "name": "ipython",
    "version": 3
   },
   "file_extension": ".py",
   "mimetype": "text/x-python",
   "name": "python",
   "nbconvert_exporter": "python",
   "pygments_lexer": "ipython3",
   "version": "3.8.10"
  },
  "orig_nbformat": 4
 },
 "nbformat": 4,
 "nbformat_minor": 2
}
