{
 "cells": [
  {
   "cell_type": "markdown",
   "id": "baea4bec",
   "metadata": {},
   "source": [
    "# <a>Scikit Learn Pipeline</a>\n",
    "\n",
    "This notebook explores the Titanic Dataset, available at [Kaggle](https://www.kaggle.com/c/titanic/overview), and creates a basic ML pipeline. In this project, the data is already available through make get_data as specified in the documentation."
   ]
  },
  {
   "cell_type": "code",
   "execution_count": 1,
   "id": "5bce10e4",
   "metadata": {},
   "outputs": [],
   "source": [
    "import pandas as pd\n",
    "\n",
    "from sklearn.model_selection import train_test_split"
   ]
  },
  {
   "cell_type": "code",
   "execution_count": 2,
   "id": "d71d5d12",
   "metadata": {},
   "outputs": [
    {
     "data": {
      "text/html": [
       "<div>\n",
       "<style scoped>\n",
       "    .dataframe tbody tr th:only-of-type {\n",
       "        vertical-align: middle;\n",
       "    }\n",
       "\n",
       "    .dataframe tbody tr th {\n",
       "        vertical-align: top;\n",
       "    }\n",
       "\n",
       "    .dataframe thead th {\n",
       "        text-align: right;\n",
       "    }\n",
       "</style>\n",
       "<table border=\"1\" class=\"dataframe\">\n",
       "  <thead>\n",
       "    <tr style=\"text-align: right;\">\n",
       "      <th></th>\n",
       "      <th>PassengerId</th>\n",
       "      <th>Survived</th>\n",
       "      <th>Pclass</th>\n",
       "      <th>Name</th>\n",
       "      <th>Sex</th>\n",
       "      <th>Age</th>\n",
       "      <th>SibSp</th>\n",
       "      <th>Parch</th>\n",
       "      <th>Ticket</th>\n",
       "      <th>Fare</th>\n",
       "      <th>Cabin</th>\n",
       "      <th>Embarked</th>\n",
       "    </tr>\n",
       "  </thead>\n",
       "  <tbody>\n",
       "    <tr>\n",
       "      <th>0</th>\n",
       "      <td>1</td>\n",
       "      <td>0</td>\n",
       "      <td>3</td>\n",
       "      <td>Braund, Mr. Owen Harris</td>\n",
       "      <td>male</td>\n",
       "      <td>22.0</td>\n",
       "      <td>1</td>\n",
       "      <td>0</td>\n",
       "      <td>A/5 21171</td>\n",
       "      <td>7.2500</td>\n",
       "      <td>NaN</td>\n",
       "      <td>S</td>\n",
       "    </tr>\n",
       "    <tr>\n",
       "      <th>1</th>\n",
       "      <td>2</td>\n",
       "      <td>1</td>\n",
       "      <td>1</td>\n",
       "      <td>Cumings, Mrs. John Bradley (Florence Briggs Th...</td>\n",
       "      <td>female</td>\n",
       "      <td>38.0</td>\n",
       "      <td>1</td>\n",
       "      <td>0</td>\n",
       "      <td>PC 17599</td>\n",
       "      <td>71.2833</td>\n",
       "      <td>C85</td>\n",
       "      <td>C</td>\n",
       "    </tr>\n",
       "    <tr>\n",
       "      <th>2</th>\n",
       "      <td>3</td>\n",
       "      <td>1</td>\n",
       "      <td>3</td>\n",
       "      <td>Heikkinen, Miss. Laina</td>\n",
       "      <td>female</td>\n",
       "      <td>26.0</td>\n",
       "      <td>0</td>\n",
       "      <td>0</td>\n",
       "      <td>STON/O2. 3101282</td>\n",
       "      <td>7.9250</td>\n",
       "      <td>NaN</td>\n",
       "      <td>S</td>\n",
       "    </tr>\n",
       "    <tr>\n",
       "      <th>3</th>\n",
       "      <td>4</td>\n",
       "      <td>1</td>\n",
       "      <td>1</td>\n",
       "      <td>Futrelle, Mrs. Jacques Heath (Lily May Peel)</td>\n",
       "      <td>female</td>\n",
       "      <td>35.0</td>\n",
       "      <td>1</td>\n",
       "      <td>0</td>\n",
       "      <td>113803</td>\n",
       "      <td>53.1000</td>\n",
       "      <td>C123</td>\n",
       "      <td>S</td>\n",
       "    </tr>\n",
       "    <tr>\n",
       "      <th>4</th>\n",
       "      <td>5</td>\n",
       "      <td>0</td>\n",
       "      <td>3</td>\n",
       "      <td>Allen, Mr. William Henry</td>\n",
       "      <td>male</td>\n",
       "      <td>35.0</td>\n",
       "      <td>0</td>\n",
       "      <td>0</td>\n",
       "      <td>373450</td>\n",
       "      <td>8.0500</td>\n",
       "      <td>NaN</td>\n",
       "      <td>S</td>\n",
       "    </tr>\n",
       "  </tbody>\n",
       "</table>\n",
       "</div>"
      ],
      "text/plain": [
       "   PassengerId  Survived  Pclass  \\\n",
       "0            1         0       3   \n",
       "1            2         1       1   \n",
       "2            3         1       3   \n",
       "3            4         1       1   \n",
       "4            5         0       3   \n",
       "\n",
       "                                                Name     Sex   Age  SibSp  \\\n",
       "0                            Braund, Mr. Owen Harris    male  22.0      1   \n",
       "1  Cumings, Mrs. John Bradley (Florence Briggs Th...  female  38.0      1   \n",
       "2                             Heikkinen, Miss. Laina  female  26.0      0   \n",
       "3       Futrelle, Mrs. Jacques Heath (Lily May Peel)  female  35.0      1   \n",
       "4                           Allen, Mr. William Henry    male  35.0      0   \n",
       "\n",
       "   Parch            Ticket     Fare Cabin Embarked  \n",
       "0      0         A/5 21171   7.2500   NaN        S  \n",
       "1      0          PC 17599  71.2833   C85        C  \n",
       "2      0  STON/O2. 3101282   7.9250   NaN        S  \n",
       "3      0            113803  53.1000  C123        S  \n",
       "4      0            373450   8.0500   NaN        S  "
      ]
     },
     "execution_count": 2,
     "metadata": {},
     "output_type": "execute_result"
    }
   ],
   "source": [
    "df_titanic = pd.read_csv('../data/raw/train.csv')\n",
    "df_titanic.head()"
   ]
  },
  {
   "cell_type": "markdown",
   "id": "185d59b1",
   "metadata": {},
   "source": [
    "### <a>Data Dictionary</a>\n",
    "\n",
    "| Variable | Definition | Key |\n",
    "| --- | --- | --- |\n",
    "| survival | Survival | 0 = No, 1 = Yes |\n",
    "| pclass | Ticket class | 1 = 1st, 2 = 2nd, 3 = 3rd |\n",
    "| sex | Sex |  |\n",
    "| Age | Age in years |  |\n",
    "| sibsp | # of siblings / spouses aboard the Titanic |  |\n",
    "| parch | # of parents / children aboard the Titanic | \t|\n",
    "| ticket | Ticket number | \t |\n",
    "| fare | Passenger fare | \t |\n",
    "| cabin | Cabin number | \t |\n",
    "| embarked | Port of Embarkation | C = Cherbourg, Q = Queenstown, S = Southampton"
   ]
  },
  {
   "cell_type": "markdown",
   "id": "bf59db9b",
   "metadata": {},
   "source": [
    "### <a>Split First, Transform Later</a>"
   ]
  },
  {
   "cell_type": "code",
   "execution_count": 3,
   "id": "517b66c8",
   "metadata": {},
   "outputs": [],
   "source": [
    "X = df_titanic.drop('Survived', axis=1)\n",
    "y = df_titanic['Survived']"
   ]
  },
  {
   "cell_type": "code",
   "execution_count": 4,
   "id": "a4e6ebbc",
   "metadata": {},
   "outputs": [],
   "source": [
    "X_train, X_test, y_train, y_test = train_test_split(X, y, random_state=42)"
   ]
  },
  {
   "cell_type": "code",
   "execution_count": 5,
   "id": "b1767f1e",
   "metadata": {},
   "outputs": [
    {
     "data": {
      "text/plain": [
       "((668, 11), (223, 11))"
      ]
     },
     "execution_count": 5,
     "metadata": {},
     "output_type": "execute_result"
    }
   ],
   "source": [
    "X_train.shape, X_test.shape"
   ]
  },
  {
   "cell_type": "markdown",
   "id": "db9099cf",
   "metadata": {},
   "source": [
    "### <a>Check if there's any missing data</a>"
   ]
  },
  {
   "cell_type": "code",
   "execution_count": 6,
   "id": "d7c56515",
   "metadata": {},
   "outputs": [
    {
     "data": {
      "text/plain": [
       "PassengerId      0\n",
       "Pclass           0\n",
       "Name             0\n",
       "Sex              0\n",
       "Age            132\n",
       "SibSp            0\n",
       "Parch            0\n",
       "Ticket           0\n",
       "Fare             0\n",
       "Cabin          519\n",
       "Embarked         2\n",
       "dtype: int64"
      ]
     },
     "execution_count": 6,
     "metadata": {},
     "output_type": "execute_result"
    }
   ],
   "source": [
    "X_train.isnull().sum()"
   ]
  },
  {
   "cell_type": "code",
   "execution_count": 7,
   "id": "067e449a",
   "metadata": {},
   "outputs": [],
   "source": [
    "# Class to select features from dataframe by type (numerical vs categorical)\n",
    "# Modified from\n",
    "# https://marloz.github.io/projects/sklearn/pipeline/missing/preprocessing/2020/03/20/sklearn-pipelines-missing-values.html\n",
    "from sklearn.base import BaseEstimator, TransformerMixin\n",
    "\n",
    "class ColumnSelector(BaseEstimator, TransformerMixin):\n",
    "\n",
    "    def __init__(self, dtype):\n",
    "        self.dtype = dtype\n",
    "    \n",
    "    def fit(self, X, y=None):\n",
    "        \"\"\" Get either categorical or numerical columns on fit.\n",
    "        Store as attribute for future reference\"\"\"\n",
    "        X = X if isinstance(X, pd.DataFrame) else pd.DataFrame(X)\n",
    "        \n",
    "        #display(X)\n",
    "        \n",
    "        if self.dtype == 'numerical':\n",
    "            self.cols = X.select_dtypes(exclude='O').columns.tolist()\n",
    "        elif self.dtype == 'categorical':\n",
    "            self.cols = X.select_dtypes(include='O').columns.tolist()\n",
    "        return self\n",
    "\n",
    "    def transform(self, X):\n",
    "        \"\"\" Subset columns of chosen data type and return np.array\"\"\"\n",
    "        return X.loc[:, self.cols]\n"
   ]
  },
  {
   "cell_type": "code",
   "execution_count": 8,
   "id": "6244871f",
   "metadata": {},
   "outputs": [
    {
     "data": {
      "text/html": [
       "<div>\n",
       "<style scoped>\n",
       "    .dataframe tbody tr th:only-of-type {\n",
       "        vertical-align: middle;\n",
       "    }\n",
       "\n",
       "    .dataframe tbody tr th {\n",
       "        vertical-align: top;\n",
       "    }\n",
       "\n",
       "    .dataframe thead th {\n",
       "        text-align: right;\n",
       "    }\n",
       "</style>\n",
       "<table border=\"1\" class=\"dataframe\">\n",
       "  <thead>\n",
       "    <tr style=\"text-align: right;\">\n",
       "      <th></th>\n",
       "      <th>product</th>\n",
       "      <th>price</th>\n",
       "      <th>quantity</th>\n",
       "    </tr>\n",
       "  </thead>\n",
       "  <tbody>\n",
       "    <tr>\n",
       "      <th>0</th>\n",
       "      <td>banana</td>\n",
       "      <td>10</td>\n",
       "      <td>12</td>\n",
       "    </tr>\n",
       "    <tr>\n",
       "      <th>1</th>\n",
       "      <td>soda</td>\n",
       "      <td>20</td>\n",
       "      <td>6</td>\n",
       "    </tr>\n",
       "    <tr>\n",
       "      <th>2</th>\n",
       "      <td>wine</td>\n",
       "      <td>30</td>\n",
       "      <td>2</td>\n",
       "    </tr>\n",
       "  </tbody>\n",
       "</table>\n",
       "</div>"
      ],
      "text/plain": [
       "  product  price  quantity\n",
       "0  banana     10        12\n",
       "1    soda     20         6\n",
       "2    wine     30         2"
      ]
     },
     "execution_count": 8,
     "metadata": {},
     "output_type": "execute_result"
    }
   ],
   "source": [
    "# Example\n",
    "df = pd.DataFrame({'product': ['banana', 'soda', 'wine'], 'price': [10, 20, 30], 'quantity': [12, 6, 2]})\n",
    "df"
   ]
  },
  {
   "cell_type": "code",
   "execution_count": 9,
   "id": "6de238e6",
   "metadata": {},
   "outputs": [
    {
     "data": {
      "text/plain": [
       "['price', 'quantity']"
      ]
     },
     "metadata": {},
     "output_type": "display_data"
    }
   ],
   "source": [
    "num_selector = ColumnSelector('numerical')\n",
    "num_selector.fit(df)\n",
    "display(num_selector.cols)"
   ]
  },
  {
   "cell_type": "code",
   "execution_count": 10,
   "id": "5d017cf1",
   "metadata": {},
   "outputs": [
    {
     "data": {
      "text/plain": [
       "['product']"
      ]
     },
     "metadata": {},
     "output_type": "display_data"
    }
   ],
   "source": [
    "cat_selector = ColumnSelector('categorical')\n",
    "cat_selector.fit(df)\n",
    "display(cat_selector.cols)"
   ]
  },
  {
   "cell_type": "code",
   "execution_count": 11,
   "id": "bbc17a25",
   "metadata": {},
   "outputs": [
    {
     "data": {
      "text/html": [
       "<div>\n",
       "<style scoped>\n",
       "    .dataframe tbody tr th:only-of-type {\n",
       "        vertical-align: middle;\n",
       "    }\n",
       "\n",
       "    .dataframe tbody tr th {\n",
       "        vertical-align: top;\n",
       "    }\n",
       "\n",
       "    .dataframe thead th {\n",
       "        text-align: right;\n",
       "    }\n",
       "</style>\n",
       "<table border=\"1\" class=\"dataframe\">\n",
       "  <thead>\n",
       "    <tr style=\"text-align: right;\">\n",
       "      <th></th>\n",
       "      <th>price</th>\n",
       "      <th>quantity</th>\n",
       "    </tr>\n",
       "  </thead>\n",
       "  <tbody>\n",
       "    <tr>\n",
       "      <th>0</th>\n",
       "      <td>10</td>\n",
       "      <td>12</td>\n",
       "    </tr>\n",
       "    <tr>\n",
       "      <th>1</th>\n",
       "      <td>20</td>\n",
       "      <td>6</td>\n",
       "    </tr>\n",
       "    <tr>\n",
       "      <th>2</th>\n",
       "      <td>30</td>\n",
       "      <td>2</td>\n",
       "    </tr>\n",
       "  </tbody>\n",
       "</table>\n",
       "</div>"
      ],
      "text/plain": [
       "   price  quantity\n",
       "0     10        12\n",
       "1     20         6\n",
       "2     30         2"
      ]
     },
     "execution_count": 11,
     "metadata": {},
     "output_type": "execute_result"
    }
   ],
   "source": [
    "num_selector.transform(df)"
   ]
  },
  {
   "cell_type": "code",
   "execution_count": 12,
   "id": "e2ce1955",
   "metadata": {},
   "outputs": [],
   "source": [
    "# Instead of removing the columns directly, create a class to encapsulate the columns to remove\n",
    "class columnDropperTransformer():\n",
    "    def __init__(self,columns):\n",
    "        self.columns=columns\n",
    "\n",
    "    def transform(self,X,y=None):\n",
    "        return X.drop(self.columns,axis=1)\n",
    "\n",
    "    def fit(self, X, y=None):\n",
    "        return self "
   ]
  },
  {
   "cell_type": "code",
   "execution_count": 13,
   "id": "806a4b33",
   "metadata": {},
   "outputs": [
    {
     "data": {
      "text/plain": [
       "['price']"
      ]
     },
     "execution_count": 13,
     "metadata": {},
     "output_type": "execute_result"
    }
   ],
   "source": [
    "column_dropper = columnDropperTransformer(['price'])\n",
    "column_dropper.fit(df)\n",
    "column_dropper.columns"
   ]
  },
  {
   "cell_type": "markdown",
   "id": "b6f8671e",
   "metadata": {},
   "source": [
    "### <a> Step 01 - feature types + address missing values</a>"
   ]
  },
  {
   "cell_type": "code",
   "execution_count": 14,
   "id": "22efa7f5",
   "metadata": {},
   "outputs": [
    {
     "data": {
      "text/plain": [
       "FeatureUnion(transformer_list=[('num_pipe',\n",
       "                                Pipeline(steps=[('drop_nums',\n",
       "                                                 <__main__.columnDropperTransformer object at 0x7f6040e54610>),\n",
       "                                                ('num_selector',\n",
       "                                                 ColumnSelector(dtype='numerical')),\n",
       "                                                ('num_imputer',\n",
       "                                                 SimpleImputer(fill_value=0,\n",
       "                                                               strategy='constant'))])),\n",
       "                               ('cat_pipe',\n",
       "                                Pipeline(steps=[('drop_cats',\n",
       "                                                 <__main__.columnDropperTransformer object at 0x7f6040e18040>),\n",
       "                                                ('cat_selector',\n",
       "                                                 ColumnSelector(dtype='categorical')),\n",
       "                                                ('cat_imputer',\n",
       "                                                 SimpleImputer(fill_value='None',\n",
       "                                                               strategy='constant'))]))])"
      ]
     },
     "execution_count": 14,
     "metadata": {},
     "output_type": "execute_result"
    }
   ],
   "source": [
    "from sklearn.pipeline import Pipeline, FeatureUnion\n",
    "from sklearn.impute import SimpleImputer\n",
    "\n",
    "\n",
    "# Pipeline with 2 steps: select numerical features and impute missing values with 0\n",
    "num_pipe = Pipeline([\n",
    "    ('drop_nums', columnDropperTransformer(['PassengerId'])),\n",
    "    ('num_selector', ColumnSelector('numerical')),\n",
    "    ('num_imputer', SimpleImputer(strategy='constant', fill_value=0))\n",
    "])\n",
    "\n",
    "# Pipeline with 2 steps: dropselect categorial features and impute missing values with None\n",
    "cat_pipe = Pipeline([\n",
    "    ('drop_cats', columnDropperTransformer(['Name', 'Ticket'])),\n",
    "    ('cat_selector', ColumnSelector('categorical')),\n",
    "    ('cat_imputer', SimpleImputer(strategy='constant', fill_value='None'))\n",
    "])\n",
    "\n",
    "# FeatureUnion to unite the pipelines\n",
    "pre_processing = FeatureUnion([\n",
    "    ('num_pipe', num_pipe),\n",
    "    ('cat_pipe', cat_pipe)\n",
    "])\n",
    "\n",
    "pre_processing"
   ]
  },
  {
   "cell_type": "markdown",
   "id": "b02bd6f9",
   "metadata": {},
   "source": [
    "### <a> Step 02 - categorical encoding</a>"
   ]
  },
  {
   "cell_type": "code",
   "execution_count": 15,
   "id": "3e8ffe89",
   "metadata": {},
   "outputs": [
    {
     "data": {
      "text/plain": [
       "FeatureUnion(transformer_list=[('num_pipe',\n",
       "                                Pipeline(steps=[('drop_nums',\n",
       "                                                 <__main__.columnDropperTransformer object at 0x7f6040e54610>),\n",
       "                                                ('num_selector',\n",
       "                                                 ColumnSelector(dtype='numerical')),\n",
       "                                                ('num_imputer',\n",
       "                                                 SimpleImputer(fill_value=0,\n",
       "                                                               strategy='constant'))])),\n",
       "                               ('cat_pipe',\n",
       "                                Pipeline(steps=[('drop_cats',\n",
       "                                                 <__main__.columnDropperTransformer object at 0x7f6040e18040>),\n",
       "                                                ('cat_selector',\n",
       "                                                 ColumnSelector(dtype='categorical')),\n",
       "                                                ('cat_imputer',\n",
       "                                                 SimpleImputer(fill_value='None',\n",
       "                                                               strategy='constant')),\n",
       "                                                ['ohe',\n",
       "                                                 OneHotEncoder(handle_unknown='ignore',\n",
       "                                                               sparse=False)]]))])"
      ]
     },
     "execution_count": 15,
     "metadata": {},
     "output_type": "execute_result"
    }
   ],
   "source": [
    "from sklearn.preprocessing import OneHotEncoder\n",
    "\n",
    "# Append one hot encoding to categorial pipeline\n",
    "pre_processing.get_params()['cat_pipe'].steps.append([\n",
    "    'ohe', OneHotEncoder(sparse=False, handle_unknown='ignore')\n",
    "])\n",
    "\n",
    "pre_processing"
   ]
  },
  {
   "cell_type": "markdown",
   "id": "b7ae8807",
   "metadata": {},
   "source": [
    "### <a> Step 03 - Create pipeline with preprocessing + rf model</a>"
   ]
  },
  {
   "cell_type": "code",
   "execution_count": 16,
   "id": "31fcb9ea",
   "metadata": {},
   "outputs": [],
   "source": [
    "from sklearn.ensemble import RandomForestClassifier\n",
    "\n",
    "model = RandomForestClassifier(n_estimators=100, random_state=42, n_jobs=-1)"
   ]
  },
  {
   "cell_type": "code",
   "execution_count": 17,
   "id": "cf445ccf",
   "metadata": {},
   "outputs": [
    {
     "data": {
      "text/plain": [
       "Pipeline(steps=[('preproc',\n",
       "                 FeatureUnion(transformer_list=[('num_pipe',\n",
       "                                                 Pipeline(steps=[('drop_nums',\n",
       "                                                                  <__main__.columnDropperTransformer object at 0x7f6040e54610>),\n",
       "                                                                 ('num_selector',\n",
       "                                                                  ColumnSelector(dtype='numerical')),\n",
       "                                                                 ('num_imputer',\n",
       "                                                                  SimpleImputer(fill_value=0,\n",
       "                                                                                strategy='constant'))])),\n",
       "                                                ('cat_pipe',\n",
       "                                                 Pipeline(steps=[('drop_cats',\n",
       "                                                                  <__main__.columnDropperTransformer object at 0x7f6040e18040>),\n",
       "                                                                 ('cat_selector',\n",
       "                                                                  ColumnSelector(dtype='categorical')),\n",
       "                                                                 ('cat_imputer',\n",
       "                                                                  SimpleImputer(fill_value='None',\n",
       "                                                                                strategy='constant')),\n",
       "                                                                 ['ohe',\n",
       "                                                                  OneHotEncoder(handle_unknown='ignore',\n",
       "                                                                                sparse=False)]]))])),\n",
       "                ('model', RandomForestClassifier(n_jobs=-1, random_state=42))])"
      ]
     },
     "execution_count": 17,
     "metadata": {},
     "output_type": "execute_result"
    }
   ],
   "source": [
    "# Create meta pipeline with preprocessing and training steps\n",
    "estimator = Pipeline([\n",
    "    ('preproc', pre_processing),\n",
    "    ('model', model)\n",
    "])\n",
    "\n",
    "estimator"
   ]
  },
  {
   "cell_type": "markdown",
   "id": "6d42f9fd",
   "metadata": {},
   "source": [
    "### <a> Step 04 - Pass Titanic through pipeline</a>"
   ]
  },
  {
   "cell_type": "code",
   "execution_count": 18,
   "id": "1392c4d8",
   "metadata": {},
   "outputs": [
    {
     "data": {
      "text/plain": [
       "0.8039726181124452"
      ]
     },
     "execution_count": 18,
     "metadata": {},
     "output_type": "execute_result"
    }
   ],
   "source": [
    "from sklearn.model_selection import cross_val_score\n",
    "from statistics import mean\n",
    "\n",
    "accuracies_cv = cross_val_score(estimator, X_train, y_train, scoring='accuracy')\n",
    "\n",
    "rf_accuracy = mean(accuracies_cv)\n",
    "\n",
    "rf_accuracy"
   ]
  },
  {
   "cell_type": "code",
   "execution_count": null,
   "id": "96626aa2",
   "metadata": {},
   "outputs": [],
   "source": []
  },
  {
   "cell_type": "code",
   "execution_count": null,
   "id": "a7993ab3",
   "metadata": {},
   "outputs": [],
   "source": []
  }
 ],
 "metadata": {
  "kernelspec": {
   "display_name": "Python 3 (ipykernel)",
   "language": "python",
   "name": "python3"
  },
  "language_info": {
   "codemirror_mode": {
    "name": "ipython",
    "version": 3
   },
   "file_extension": ".py",
   "mimetype": "text/x-python",
   "name": "python",
   "nbconvert_exporter": "python",
   "pygments_lexer": "ipython3",
   "version": "3.8.10"
  }
 },
 "nbformat": 4,
 "nbformat_minor": 5
}
